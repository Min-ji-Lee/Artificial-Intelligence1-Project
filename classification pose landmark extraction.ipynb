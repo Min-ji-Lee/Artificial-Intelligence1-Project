{
 "cells": [
  {
   "cell_type": "code",
   "execution_count": 1,
   "id": "502bd307",
   "metadata": {},
   "outputs": [],
   "source": [
    "# 패키지 로드\n",
    "import cv2\n",
    "import mediapipe as mp\n",
    "import numpy as np\n",
    "import os\n",
    "from PIL import Image\n",
    "import matplotlib.pyplot as plt\n",
    "import pickle\n",
    "\n",
    "# 스쿼트 다운 자세로 classification된 데이터셋 리스트 불러옴\n",
    "with open(\"imglist.pkl\",\"rb\") as fr:\n",
    "    squat_down_data = pickle.load(fr)\n",
    "\n",
    "mp_drawing = mp.solutions.drawing_utils\n",
    "mp_drawing_styles = mp.solutions.drawing_styles\n",
    "mp_pose = mp.solutions.pose\n",
    "font = cv2.FONT_HERSHEY_SIMPLEX\n",
    "\n",
    "#Dataset 경로 지정\n",
    "root_dir = 'C:/Users/user/2022 AI/croped'\n",
    "\n",
    "#불러올 파일의 확장자 지정(여기서는 이미지 파일만 로드)\n",
    "img_path_list = []\n",
    "possible_img_extension = ['.jpg', '.jpeg', '.JPG', '.bmp', '.png']\n",
    "\n",
    "#Dataset의 경로를 리스트 형태로 가져옴\n",
    "for (root, dirs, files) in os.walk(root_dir):\n",
    "    if len(files) > 0:\n",
    "        for file_name in files:\n",
    "            if file_name in squat_down_data:\n",
    "                if os.path.splitext(file_name)[1] in possible_img_extension:\n",
    "                    img_path = root + '/' + file_name\n",
    "\n",
    "                    # 경로에서 \\를 모두 /로 바꿔줘야 오류가 생기지 않음\n",
    "                    img_path = img_path.replace('\\\\', '/') # \\는 \\\\로 나타내야함         \n",
    "                    img_path_list.append(img_path)\n",
    "                             \n"
   ]
  },
  {
   "cell_type": "code",
   "execution_count": 2,
   "id": "5bf09026",
   "metadata": {},
   "outputs": [
    {
     "data": {
      "text/plain": [
       "['C:/Users/user/2022 AI/croped/img124_cropped_.jpg',\n",
       " 'C:/Users/user/2022 AI/croped/img132_cropped_.jpg',\n",
       " 'C:/Users/user/2022 AI/croped/img156_cropped_.jpg',\n",
       " 'C:/Users/user/2022 AI/croped/img186_cropped_.jpg',\n",
       " 'C:/Users/user/2022 AI/croped/img209_cropped_.jpg',\n",
       " 'C:/Users/user/2022 AI/croped/img20_cropped_.jpg',\n",
       " 'C:/Users/user/2022 AI/croped/img22_cropped_.jpg',\n",
       " 'C:/Users/user/2022 AI/croped/img275_cropped_.jpg',\n",
       " 'C:/Users/user/2022 AI/croped/img2_119_cropped_.jpg',\n",
       " 'C:/Users/user/2022 AI/croped/img2_129_cropped_.jpg',\n",
       " 'C:/Users/user/2022 AI/croped/img2_133_cropped_.jpg',\n",
       " 'C:/Users/user/2022 AI/croped/img2_161_cropped_.jpg',\n",
       " 'C:/Users/user/2022 AI/croped/img2_170_cropped_.jpg',\n",
       " 'C:/Users/user/2022 AI/croped/img2_269_cropped_.jpg',\n",
       " 'C:/Users/user/2022 AI/croped/img2_273_cropped_.jpg',\n",
       " 'C:/Users/user/2022 AI/croped/img2_274_cropped_.jpg',\n",
       " 'C:/Users/user/2022 AI/croped/img2_285_cropped_.jpg',\n",
       " 'C:/Users/user/2022 AI/croped/img2_2_cropped_.jpg',\n",
       " 'C:/Users/user/2022 AI/croped/img2_334_cropped_.jpg',\n",
       " 'C:/Users/user/2022 AI/croped/img2_395_cropped_.jpg',\n",
       " 'C:/Users/user/2022 AI/croped/img2_44_cropped_.jpg',\n",
       " 'C:/Users/user/2022 AI/croped/img2_46_cropped_.jpg',\n",
       " 'C:/Users/user/2022 AI/croped/img2_47_cropped_.jpg',\n",
       " 'C:/Users/user/2022 AI/croped/img2_63_cropped_.jpg',\n",
       " 'C:/Users/user/2022 AI/croped/img2_81_cropped_.jpg',\n",
       " 'C:/Users/user/2022 AI/croped/img2_8_cropped_.jpg',\n",
       " 'C:/Users/user/2022 AI/croped/img2_93_cropped_.jpg',\n",
       " 'C:/Users/user/2022 AI/croped/img31_cropped_.jpg',\n",
       " 'C:/Users/user/2022 AI/croped/img328_cropped_.jpg',\n",
       " 'C:/Users/user/2022 AI/croped/img364_cropped_.jpg',\n",
       " 'C:/Users/user/2022 AI/croped/img3_12_cropped_.jpg',\n",
       " 'C:/Users/user/2022 AI/croped/img3_313_cropped_.jpg',\n",
       " 'C:/Users/user/2022 AI/croped/img3_329_cropped_.jpg',\n",
       " 'C:/Users/user/2022 AI/croped/img3_53_cropped_.jpg',\n",
       " 'C:/Users/user/2022 AI/croped/img3_70_cropped_.jpg',\n",
       " 'C:/Users/user/2022 AI/croped/img46_cropped_.jpg',\n",
       " 'C:/Users/user/2022 AI/croped/img4_111_cropped_.jpg',\n",
       " 'C:/Users/user/2022 AI/croped/img4_14_cropped_.jpg',\n",
       " 'C:/Users/user/2022 AI/croped/img4_19_cropped_.jpg',\n",
       " 'C:/Users/user/2022 AI/croped/img4_218_cropped_.jpg',\n",
       " 'C:/Users/user/2022 AI/croped/img4_21_cropped_.jpg',\n",
       " 'C:/Users/user/2022 AI/croped/img4_314_cropped_.jpg',\n",
       " 'C:/Users/user/2022 AI/croped/img4_323_cropped_.jpg',\n",
       " 'C:/Users/user/2022 AI/croped/img4_5_cropped_.jpg',\n",
       " 'C:/Users/user/2022 AI/croped/img4_7_cropped_.jpg',\n",
       " 'C:/Users/user/2022 AI/croped/img74_cropped_.jpg',\n",
       " 'C:/Users/user/2022 AI/croped/img86_cropped_.jpg']"
      ]
     },
     "execution_count": 2,
     "metadata": {},
     "output_type": "execute_result"
    }
   ],
   "source": [
    "\n",
    "img_path_list"
   ]
  },
  {
   "cell_type": "code",
   "execution_count": 3,
   "id": "484760fa",
   "metadata": {},
   "outputs": [],
   "source": [
    "#불러올 이미지 파일에서 추출할 관절 좌표값을 저장할 리스트 생성\n",
    "upper_body_angle_list=[]\n",
    "knee_angle_list=[]\n",
    "knee_tiptoe_diff_list=[]"
   ]
  },
  {
   "cell_type": "code",
   "execution_count": 4,
   "id": "79efaba3",
   "metadata": {},
   "outputs": [],
   "source": [
    "\n",
    "# 각도 계산 함수\n",
    "def calculate_angle(a,b,c):\n",
    "    a = np.array(a) # 첫 번째 점의 좌표\n",
    "    b = np.array(b) # 두 번째 점의 좌표\n",
    "    c = np.array(c) # 세 번째 점의 좌표\n",
    "    \n",
    "    # 역탄젠트를 이용해 라디언값을 구해줌\n",
    "    radians = np.arctan2(c[1]-b[1], c[0]-b[0]) - np.arctan2(a[1]-b[1], a[0]-b[0])\n",
    "    # 라디언값을 도단위로 변환\n",
    "    angle = np.abs(radians*180.0/np.pi)\n",
    "    \n",
    "    # 우리는 스쿼트를 하는 신체 각도를 구할 것이므로 180도 이하의 값을 보이도록 보정\n",
    "    if angle >180.0:\n",
    "        angle = 360-angle\n",
    "        \n",
    "    return angle \n",
    "\n",
    "\n",
    "#mediapipe 및 cv를 사용하여 이미지에서 관절 좌표 추출\n",
    "\n",
    "with mp_pose.Pose(\n",
    "        static_image_mode=True,\n",
    "        model_complexity=2,\n",
    "        enable_segmentation=True,\n",
    "        min_detection_confidence=0.5) as pose:\n",
    "    \n",
    "    for idx, file in enumerate(img_path_list):\n",
    "        image = cv2.imread(file)\n",
    "        image_height, image_width, _ = image.shape\n",
    "        h, w = image.shape[:2] \n",
    "        # 처리 전 BGR 이미지를 RGB로 변환\n",
    "        results = pose.process(cv2.cvtColor(image, cv2.COLOR_BGR2RGB))\n",
    "\n",
    "        if not results.pose_landmarks:\n",
    "            continue\n",
    "\n",
    "        landmarks = results.pose_landmarks.landmark\n",
    "            \n",
    "        # mediapipe를 통해 관절 좌표 로드\n",
    "        left_shoulder = [int(landmarks[mp_pose.PoseLandmark.LEFT_SHOULDER.value].x*w),\n",
    "                         int(landmarks[mp_pose.PoseLandmark.LEFT_SHOULDER.value].y*h)]\n",
    "        left_hip = [int(landmarks[mp_pose.PoseLandmark.LEFT_HIP.value].x*w),\n",
    "                    int(landmarks[mp_pose.PoseLandmark.LEFT_HIP.value].y*h)]\n",
    "        left_knee = [int(landmarks[mp_pose.PoseLandmark.LEFT_KNEE.value].x*w),\n",
    "                     int(landmarks[mp_pose.PoseLandmark.LEFT_KNEE.value].y*h)]\n",
    "        left_ankle = [int(landmarks[mp_pose.PoseLandmark.LEFT_ANKLE.value].x*w),\n",
    "                      int(landmarks[mp_pose.PoseLandmark.LEFT_ANKLE.value].y*h)]\n",
    "        left_heel = [int(landmarks[mp_pose.PoseLandmark.LEFT_HEEL.value].x*w),\n",
    "                     int(landmarks[mp_pose.PoseLandmark.LEFT_HEEL.value].y*h)]\n",
    "        left_foot_index = [int(landmarks[mp_pose.PoseLandmark.LEFT_FOOT_INDEX.value].x*w),\n",
    "                           int(landmarks[mp_pose.PoseLandmark.LEFT_FOOT_INDEX.value].y*h)]\n",
    "        right_shoulder = [int(landmarks[mp_pose.PoseLandmark.RIGHT_SHOULDER.value].x*w),\n",
    "                          int(landmarks[mp_pose.PoseLandmark.RIGHT_SHOULDER.value].y*h)]\n",
    "          \n",
    "        # 정확한 자세인지 확인하기 위해 허리, 무릎의 각도 및 발끝과 무릎 사이의 거리 계산\n",
    "        upper_body_angle = int((calculate_angle(left_shoulder, left_hip, left_knee)))\n",
    "        knee_angle = int((calculate_angle(left_hip, left_knee,left_heel)))\n",
    "        knee_tiptoe_diff = int(left_foot_index[0]-left_knee[0])\n",
    "        \n",
    "        # 데이터별 각도를 각 리스트에 append\n",
    "        upper_body_angle_list.append(upper_body_angle)\n",
    "        knee_angle_list.append(knee_angle)\n",
    "        knee_tiptoe_diff_list.append(knee_tiptoe_diff)\n",
    "        \n",
    "        # 데이터별 각도를 각 리스트에 append\n",
    "        upper_body_angle_list.append(upper_body_angle)\n",
    "        knee_angle_list.append(knee_angle)\n",
    "        knee_tiptoe_diff_list.append(knee_tiptoe_diff)\n",
    "\n",
    "#스쿼트 각도 계산에 필요한 허리 각도, 무릎 각도, 무릎과 발끝의 좌표 차이 변수 선언\n",
    "upper_body_angle_avg=0\n",
    "knee_angle_avg=0\n",
    "knee_tiptoe_diff_avg=0\n",
    "\n",
    "#리스트의 평균을 구하는 함수 생성\n",
    "def list_average(list):\n",
    "    avg=0\n",
    "    sum=0\n",
    "    for i in list:\n",
    "        sum+=i\n",
    "        avg=int(sum/len(list))\n",
    "    return avg\n",
    "\n",
    "#허리 각도, 무릎 각도, 무릎과 발끝의 좌표 차이 평균 계산\n",
    "upper_body_angle_avg=list_average(upper_body_angle_list)\n",
    "knee_angle_avg=list_average(knee_angle_list)\n",
    "knee_tiptoe_diff_avg=list_average(knee_tiptoe_diff_list)"
   ]
  },
  {
   "cell_type": "code",
   "execution_count": 5,
   "id": "4add6720",
   "metadata": {},
   "outputs": [
    {
     "data": {
      "text/plain": [
       "67"
      ]
     },
     "execution_count": 5,
     "metadata": {},
     "output_type": "execute_result"
    }
   ],
   "source": [
    "upper_body_angle_avg"
   ]
  },
  {
   "cell_type": "code",
   "execution_count": 6,
   "id": "48d44b03",
   "metadata": {},
   "outputs": [
    {
     "data": {
      "text/plain": [
       "74"
      ]
     },
     "execution_count": 6,
     "metadata": {},
     "output_type": "execute_result"
    }
   ],
   "source": [
    "knee_angle_avg"
   ]
  },
  {
   "cell_type": "code",
   "execution_count": 7,
   "id": "2eb2ac74",
   "metadata": {},
   "outputs": [
    {
     "data": {
      "text/plain": [
       "-3"
      ]
     },
     "execution_count": 7,
     "metadata": {},
     "output_type": "execute_result"
    }
   ],
   "source": [
    "knee_tiptoe_diff_avg"
   ]
  },
  {
   "cell_type": "code",
   "execution_count": null,
   "id": "4cbfc65f",
   "metadata": {},
   "outputs": [],
   "source": []
  }
 ],
 "metadata": {
  "kernelspec": {
   "display_name": "Python 3 (ipykernel)",
   "language": "python",
   "name": "python3"
  },
  "language_info": {
   "codemirror_mode": {
    "name": "ipython",
    "version": 3
   },
   "file_extension": ".py",
   "mimetype": "text/x-python",
   "name": "python",
   "nbconvert_exporter": "python",
   "pygments_lexer": "ipython3",
   "version": "3.9.12"
  }
 },
 "nbformat": 4,
 "nbformat_minor": 5
}
